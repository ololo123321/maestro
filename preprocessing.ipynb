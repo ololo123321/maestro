{
 "cells": [
  {
   "cell_type": "code",
   "execution_count": 1,
   "metadata": {},
   "outputs": [],
   "source": [
    "import os\n",
    "import json\n",
    "from utils import load_data, DataConverterV2\n",
    "\n",
    "%load_ext autoreload\n",
    "%autoreload 2"
   ]
  },
  {
   "cell_type": "code",
   "execution_count": 2,
   "metadata": {},
   "outputs": [
    {
     "name": "stderr",
     "output_type": "stream",
     "text": [
      "  0%|          | 0/163 [00:00<?, ?it/s]"
     ]
    },
    {
     "name": "stdout",
     "output_type": "stream",
     "text": [
      "./maestro-v2.0.0/2011\n"
     ]
    },
    {
     "name": "stderr",
     "output_type": "stream",
     "text": [
      "100%|██████████| 163/163 [01:21<00:00,  1.84it/s]\n",
      "  0%|          | 0/147 [00:00<?, ?it/s]"
     ]
    },
    {
     "name": "stdout",
     "output_type": "stream",
     "text": [
      "./maestro-v2.0.0/2008\n"
     ]
    },
    {
     "name": "stderr",
     "output_type": "stream",
     "text": [
      "100%|██████████| 147/147 [01:21<00:00,  1.58it/s]\n",
      "  1%|          | 1/127 [00:00<00:20,  6.13it/s]"
     ]
    },
    {
     "name": "stdout",
     "output_type": "stream",
     "text": [
      "./maestro-v2.0.0/2013\n"
     ]
    },
    {
     "name": "stderr",
     "output_type": "stream",
     "text": [
      "100%|██████████| 127/127 [01:16<00:00,  2.00it/s]\n",
      "  0%|          | 0/115 [00:00<?, ?it/s]"
     ]
    },
    {
     "name": "stdout",
     "output_type": "stream",
     "text": [
      "./maestro-v2.0.0/2006\n"
     ]
    },
    {
     "name": "stderr",
     "output_type": "stream",
     "text": [
      "100%|██████████| 115/115 [02:19<00:00,  1.27s/it]\n",
      "  0%|          | 0/140 [00:00<?, ?it/s]"
     ]
    },
    {
     "name": "stdout",
     "output_type": "stream",
     "text": [
      "./maestro-v2.0.0/2017\n"
     ]
    },
    {
     "name": "stderr",
     "output_type": "stream",
     "text": [
      "100%|██████████| 140/140 [01:39<00:00,  1.29it/s]\n",
      "  0%|          | 0/125 [00:00<?, ?it/s]"
     ]
    },
    {
     "name": "stdout",
     "output_type": "stream",
     "text": [
      "./maestro-v2.0.0/2009\n"
     ]
    },
    {
     "name": "stderr",
     "output_type": "stream",
     "text": [
      "100%|██████████| 125/125 [02:25<00:00,  1.23s/it]\n",
      "  0%|          | 0/105 [00:00<?, ?it/s]"
     ]
    },
    {
     "name": "stdout",
     "output_type": "stream",
     "text": [
      "./maestro-v2.0.0/2014\n"
     ]
    },
    {
     "name": "stderr",
     "output_type": "stream",
     "text": [
      "100%|██████████| 105/105 [02:30<00:00,  1.34s/it]\n",
      "  0%|          | 0/99 [00:00<?, ?it/s]"
     ]
    },
    {
     "name": "stdout",
     "output_type": "stream",
     "text": [
      "./maestro-v2.0.0/2018\n"
     ]
    },
    {
     "name": "stderr",
     "output_type": "stream",
     "text": [
      "100%|██████████| 99/99 [03:25<00:00,  1.97s/it]\n",
      "  0%|          | 0/129 [00:00<?, ?it/s]"
     ]
    },
    {
     "name": "stdout",
     "output_type": "stream",
     "text": [
      "./maestro-v2.0.0/2015\n"
     ]
    },
    {
     "name": "stderr",
     "output_type": "stream",
     "text": [
      "100%|██████████| 129/129 [01:46<00:00,  1.43it/s]\n",
      "  0%|          | 0/132 [00:00<?, ?it/s]"
     ]
    },
    {
     "name": "stdout",
     "output_type": "stream",
     "text": [
      "./maestro-v2.0.0/2004\n"
     ]
    },
    {
     "name": "stderr",
     "output_type": "stream",
     "text": [
      "100%|██████████| 132/132 [02:50<00:00,  1.36s/it]\n"
     ]
    }
   ],
   "source": [
    "data_dir = \"./maestro-v2.0.0/\"\n",
    "converter = DataConverterV2(step=10, max_delay=1000)\n",
    "train_tokens, eval_tokens, test_tokens = load_data(data_dir, converter)"
   ]
  },
  {
   "cell_type": "code",
   "execution_count": 12,
   "metadata": {},
   "outputs": [],
   "source": [
    "vocab = [f\"NOTE_ON_{i}\" for i in range(128)] + \\\n",
    "        [f\"NOTE_OFF_{i}\" for i in range(128)] + \\\n",
    "        [f\"TIME_SHIFT_{i}\" for i in range(converter.step, converter.max_delay+1, converter.step)] + \\\n",
    "        [f\"SET_VELOCITY_{i}\" for i in range(0, 32)] + \\\n",
    "        [\"PEDAL_ON\", \"PEDAL_OFF\"]"
   ]
  },
  {
   "cell_type": "code",
   "execution_count": 18,
   "metadata": {},
   "outputs": [],
   "source": [
    "model_data_dir = \"./model_data/v2\"\n",
    "os.makedirs(model_data_dir, exist_ok=True)\n",
    "\n",
    "with open(os.path.join(model_data_dir, \"train_tokens.json\"), \"w\") as f:\n",
    "    json.dump(train_tokens, f, indent=4)\n",
    "\n",
    "with open(os.path.join(model_data_dir, \"eval_tokens.json\"), \"w\") as f:\n",
    "    json.dump(eval_tokens, f, indent=4)\n",
    "    \n",
    "with open(os.path.join(model_data_dir, \"test_tokens.json\"), \"w\") as f:\n",
    "    json.dump(test_tokens, f, indent=4)\n",
    "    \n",
    "with open(os.path.join(model_data_dir, \"vocab.json\"), \"w\") as f:\n",
    "    json.dump(vocab, f, indent=4)"
   ]
  },
  {
   "cell_type": "code",
   "execution_count": null,
   "metadata": {},
   "outputs": [],
   "source": []
  }
 ],
 "metadata": {
  "kernelspec": {
   "display_name": "Python 3",
   "language": "python",
   "name": "python3"
  },
  "language_info": {
   "codemirror_mode": {
    "name": "ipython",
    "version": 3
   },
   "file_extension": ".py",
   "mimetype": "text/x-python",
   "name": "python",
   "nbconvert_exporter": "python",
   "pygments_lexer": "ipython3",
   "version": "3.7.3"
  }
 },
 "nbformat": 4,
 "nbformat_minor": 2
}
